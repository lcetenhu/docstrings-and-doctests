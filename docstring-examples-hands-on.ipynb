{
 "cells": [
  {
   "cell_type": "markdown",
   "metadata": {},
   "source": [
    "# Simple example of python docstrings"
   ]
  },
  {
   "cell_type": "markdown",
   "metadata": {},
   "source": [
    "See more at: https://realpython.com/documenting-python-code/"
   ]
  },
  {
   "cell_type": "markdown",
   "metadata": {},
   "source": [
    "### First some Jupyter shortcuts:"
   ]
  },
  {
   "cell_type": "markdown",
   "metadata": {},
   "source": [
    "alt + enter                   : run cell and add a new one below"
   ]
  },
  {
   "cell_type": "markdown",
   "metadata": {},
   "source": [
    "control + enter                   : run cell"
   ]
  },
  {
   "cell_type": "markdown",
   "metadata": {},
   "source": [
    "esc + m       : text cell"
   ]
  },
  {
   "cell_type": "markdown",
   "metadata": {},
   "source": [
    "title (subtitle, subsubtitle) in a text cell: start with # (##, ###, ####)"
   ]
  },
  {
   "cell_type": "markdown",
   "metadata": {},
   "source": [
    "## Now back to docstrings:"
   ]
  },
  {
   "cell_type": "code",
   "execution_count": 5,
   "metadata": {},
   "outputs": [],
   "source": []
  },
  {
   "cell_type": "code",
   "execution_count": null,
   "metadata": {
    "scrolled": true
   },
   "outputs": [],
   "source": []
  },
  {
   "cell_type": "markdown",
   "metadata": {},
   "source": [
    "## Add documentation"
   ]
  },
  {
   "cell_type": "code",
   "execution_count": 7,
   "metadata": {},
   "outputs": [],
   "source": []
  },
  {
   "cell_type": "code",
   "execution_count": null,
   "metadata": {},
   "outputs": [],
   "source": []
  },
  {
   "cell_type": "markdown",
   "metadata": {},
   "source": [
    "## Where is the documentation stored?"
   ]
  },
  {
   "cell_type": "code",
   "execution_count": null,
   "metadata": {},
   "outputs": [],
   "source": []
  },
  {
   "cell_type": "markdown",
   "metadata": {},
   "source": [
    "## How to access documentation"
   ]
  },
  {
   "cell_type": "code",
   "execution_count": null,
   "metadata": {
    "scrolled": true
   },
   "outputs": [],
   "source": []
  },
  {
   "cell_type": "markdown",
   "metadata": {},
   "source": [
    " "
   ]
  },
  {
   "cell_type": "markdown",
   "metadata": {},
   "source": [
    " "
   ]
  },
  {
   "cell_type": "markdown",
   "metadata": {},
   "source": [
    " "
   ]
  },
  {
   "cell_type": "markdown",
   "metadata": {},
   "source": [
    " "
   ]
  },
  {
   "cell_type": "markdown",
   "metadata": {},
   "source": [
    "# How to start writing dosctrings?"
   ]
  },
  {
   "cell_type": "markdown",
   "metadata": {},
   "source": [
    "## Functions"
   ]
  },
  {
   "cell_type": "code",
   "execution_count": 3,
   "metadata": {},
   "outputs": [
    {
     "name": "stdout",
     "output_type": "stream",
     "text": [
      "Mean: 3.0\n"
     ]
    }
   ],
   "source": [
    "import numpy as np\n",
    "\n",
    "def calculate_mean(numbers):\n",
    "    \n",
    "    return np.mean(numbers)\n",
    "\n",
    "\n",
    "\n",
    "numbers = [1, 2, 3, 4, 5]\n",
    "mean = calculate_mean(numbers)\n",
    "print(\"Mean:\", mean)"
   ]
  },
  {
   "cell_type": "markdown",
   "metadata": {},
   "source": [
    "## Class"
   ]
  },
  {
   "cell_type": "code",
   "execution_count": 4,
   "metadata": {},
   "outputs": [
    {
     "name": "stdout",
     "output_type": "stream",
     "text": [
      "Linda's Topics: ['SNR 0540']\n",
      "Sophie's Observatories: ['HST', 'MUSE']\n"
     ]
    }
   ],
   "source": [
    "class KTHAstroTeam:\n",
    "\n",
    "    def __init__(self):\n",
    "        \n",
    "        self.colleagues = {}\n",
    "\n",
    "        \n",
    "    def add_colleague(self, name, projects, tools):\n",
    "        \n",
    "        self.colleagues[name] = {'projects': projects, 'tools': tools}\n",
    "\n",
    "        \n",
    "    def get_topics(self, name):\n",
    "        \n",
    "        return self.colleagues.get(name, {}).get('projects', [])\n",
    "\n",
    "    \n",
    "    def get_observatories(self, name):\n",
    "        \n",
    "        return self.colleagues.get(name, {}).get('tools', [])\n",
    "    \n",
    "    \n",
    "\n",
    "team = KTHAstroTeam()\n",
    "team.add_colleague(\"Linda\", [\"SNR 0540\"], [\"MUSE\", \"X-shooter\"])\n",
    "team.add_colleague(\"Sophie\", [\"SN 1987A\"], [\"HST\", \"MUSE\"])\n",
    "team.add_colleague(\"Josefin\", [\"SNe\", \"SNRs\", \"AGNs\", \"GRBs\"], [\"JWST\", \"HST\", \"MUSE\"])\n",
    "\n",
    "linda_topics = team.get_topics(\"Linda\")\n",
    "print(\"Linda's Topics:\", linda_topics)\n",
    "\n",
    "sophie_observatories = team.get_observatories(\"Sophie\")\n",
    "print(\"Sophie's Observatories:\", sophie_observatories)"
   ]
  },
  {
   "cell_type": "markdown",
   "metadata": {},
   "source": [
    "## Script"
   ]
  },
  {
   "cell_type": "code",
   "execution_count": 5,
   "metadata": {},
   "outputs": [
    {
     "name": "stdout",
     "output_type": "stream",
     "text": [
      "Linda's Topics: ['SNR 0540']\n",
      "Sophie's Observatories: ['HST', 'MUSE']\n",
      "Average Number of Projects: 2.0\n",
      "Median Number of Observatories: 2\n"
     ]
    }
   ],
   "source": [
    "class KTHAstroTeam:\n",
    "    \n",
    "    def __init__(self):\n",
    "       \n",
    "        self.colleagues = {}\n",
    "\n",
    "        \n",
    "    def add_colleague(self, name, projects, observatories):\n",
    "        \n",
    "        self.colleagues[name] = {\n",
    "            'projects': projects,\n",
    "            'observatories': observatories\n",
    "        }\n",
    "\n",
    "        \n",
    "    def get_topics(self, name):\n",
    "        \n",
    "        return self.colleagues.get(name, {}).get('projects', [])\n",
    "    \n",
    "\n",
    "    def get_observatories(self, name):\n",
    "        \n",
    "        return self.colleagues.get(name, {}).get('observatories', [])\n",
    "    \n",
    "\n",
    "def compute_average_projects(team):\n",
    "    \n",
    "    num_projects = [\n",
    "        len(colleague['projects']) \n",
    "        for colleague in team.colleagues.values()\n",
    "    ]\n",
    "    return sum(num_projects) / len(num_projects)\n",
    "\n",
    "\n",
    "def compute_median_observatories(team):\n",
    "\n",
    "    from statistics import median\n",
    "    num_observatories = [\n",
    "        len(colleague['observatories']) \n",
    "        for colleague in team.colleagues.values()\n",
    "    ]\n",
    "    return median(num_observatories)\n",
    "\n",
    "\n",
    "\n",
    "\n",
    "team = KTHAstroTeam()\n",
    "team.add_colleague(\"Linda\", [\"SNR 0540\"], [\"MUSE\", \"X-shooter\"])\n",
    "team.add_colleague(\"Sophie\", [\"SN 1987A\"], [\"HST\", \"MUSE\"])\n",
    "team.add_colleague(\"Josefin\", [\"SNe\", \"SNRs\", \"AGNs\", \"GRBs\"], [\"JWST\", \"HST\", \"MUSE\"])\n",
    "\n",
    "linda_topics = team.get_topics(\"Linda\")\n",
    "print(\"Linda's Topics:\", linda_topics)\n",
    "\n",
    "sophie_observatories = team.get_observatories(\"Sophie\")\n",
    "print(\"Sophie's Observatories:\", sophie_observatories)\n",
    "\n",
    "average_projects = compute_average_projects(team)\n",
    "print(\"Average Number of Projects:\", average_projects)\n",
    "\n",
    "median_observatories = compute_median_observatories(team)\n",
    "print(\"Median Number of Observatories:\", median_observatories)"
   ]
  },
  {
   "cell_type": "markdown",
   "metadata": {},
   "source": [
    " "
   ]
  },
  {
   "cell_type": "markdown",
   "metadata": {},
   "source": [
    " "
   ]
  },
  {
   "cell_type": "markdown",
   "metadata": {},
   "source": [
    " "
   ]
  },
  {
   "cell_type": "markdown",
   "metadata": {},
   "source": [
    "# Practise now on your own! "
   ]
  },
  {
   "cell_type": "markdown",
   "metadata": {},
   "source": [
    "Take one of your own functions or ask chatGPT to create a sample function (for example one that computes the quandratic formula). If you ask Chat GPT, specify that you do not want any comments or documentation yet."
   ]
  },
  {
   "cell_type": "code",
   "execution_count": null,
   "metadata": {},
   "outputs": [],
   "source": []
  },
  {
   "cell_type": "markdown",
   "metadata": {},
   "source": [
    "Look at your python function and think what kinds of things should be documented and commented. When you've got an idea, let ChatGPT do it. Remember to specify the documentation style (numpy) and suggest improvements if you're not pleased with the first version!"
   ]
  },
  {
   "cell_type": "code",
   "execution_count": null,
   "metadata": {},
   "outputs": [],
   "source": []
  },
  {
   "cell_type": "markdown",
   "metadata": {},
   "source": [
    " "
   ]
  },
  {
   "cell_type": "markdown",
   "metadata": {},
   "source": [
    " "
   ]
  },
  {
   "cell_type": "markdown",
   "metadata": {},
   "source": [
    " "
   ]
  },
  {
   "cell_type": "markdown",
   "metadata": {},
   "source": [
    " "
   ]
  },
  {
   "cell_type": "markdown",
   "metadata": {},
   "source": [
    " "
   ]
  },
  {
   "cell_type": "markdown",
   "metadata": {},
   "source": [
    "# Simple examples of python doctests"
   ]
  },
  {
   "cell_type": "markdown",
   "metadata": {},
   "source": [
    "See more at: https://realpython.com/python-doctest/"
   ]
  },
  {
   "cell_type": "markdown",
   "metadata": {},
   "source": [
    "Advantage: do documenting and testing simultaneously"
   ]
  },
  {
   "cell_type": "markdown",
   "metadata": {},
   "source": [
    "## Writing your own doctests"
   ]
  },
  {
   "cell_type": "markdown",
   "metadata": {},
   "source": [
    "Ask ChatGPT to write simple python functions of mathematical operations (adding, subtracting, multiplying etc.) without documentation or comments"
   ]
  },
  {
   "cell_type": "code",
   "execution_count": null,
   "metadata": {},
   "outputs": [],
   "source": []
  },
  {
   "cell_type": "markdown",
   "metadata": {},
   "source": [
    "Pick your favourite function and ask chatGPT to add documentation in the numpy style including usage examples that are also compatible with python's doctest"
   ]
  },
  {
   "cell_type": "code",
   "execution_count": null,
   "metadata": {},
   "outputs": [],
   "source": []
  },
  {
   "cell_type": "markdown",
   "metadata": {},
   "source": [
    "Now run the tests with the following code:"
   ]
  },
  {
   "cell_type": "markdown",
   "metadata": {},
   "source": [
    "```python\n",
    "import doctest\n",
    "# run for all tests included in this notebook\n",
    "#doctest.testmod()\n",
    "# run for test included in a specific function\n",
    "doctest.run_docstring_examples(my_function, globals(), verbose=True)\n",
    "```"
   ]
  },
  {
   "cell_type": "markdown",
   "metadata": {},
   "source": [
    "Or if you are running the whole script, use then: python -m doctest -v your_script.py"
   ]
  },
  {
   "cell_type": "code",
   "execution_count": null,
   "metadata": {},
   "outputs": [],
   "source": []
  },
  {
   "cell_type": "markdown",
   "metadata": {},
   "source": [
    " "
   ]
  },
  {
   "cell_type": "markdown",
   "metadata": {},
   "source": [
    " "
   ]
  },
  {
   "cell_type": "markdown",
   "metadata": {},
   "source": [
    "## Let's see what happens when the test fails"
   ]
  },
  {
   "cell_type": "markdown",
   "metadata": {},
   "source": [
    "Modify some tests so that they give wrong answers."
   ]
  },
  {
   "cell_type": "code",
   "execution_count": null,
   "metadata": {},
   "outputs": [],
   "source": []
  },
  {
   "cell_type": "markdown",
   "metadata": {},
   "source": [
    "As you can see, the tests are incredibly strict. For example, test fails if an output is an integer when it should have been a float. This also means that additional spaces and single vs double quotes fail a test. Be careful!"
   ]
  },
  {
   "cell_type": "markdown",
   "metadata": {},
   "source": [
    "Let's then look at functions that have exceptions, like a function that does division."
   ]
  },
  {
   "cell_type": "code",
   "execution_count": null,
   "metadata": {},
   "outputs": [],
   "source": []
  },
  {
   "cell_type": "markdown",
   "metadata": {},
   "source": [
    "So it is important to take the exceptions into account! What if we divide by zero for example?"
   ]
  },
  {
   "cell_type": "code",
   "execution_count": null,
   "metadata": {},
   "outputs": [],
   "source": []
  },
  {
   "cell_type": "markdown",
   "metadata": {},
   "source": [
    "We need to include this exception to the test:"
   ]
  },
  {
   "cell_type": "code",
   "execution_count": null,
   "metadata": {},
   "outputs": [],
   "source": []
  },
  {
   "cell_type": "markdown",
   "metadata": {},
   "source": [
    " "
   ]
  },
  {
   "cell_type": "markdown",
   "metadata": {},
   "source": [
    "## Let's things properly: test-driven development (TDD) practise"
   ]
  },
  {
   "cell_type": "markdown",
   "metadata": {},
   "source": [
    "First, write your tests to the function: multiply"
   ]
  },
  {
   "cell_type": "code",
   "execution_count": null,
   "metadata": {},
   "outputs": [],
   "source": []
  },
  {
   "cell_type": "markdown",
   "metadata": {},
   "source": [
    "Second, add the minimal code that passes these tests:"
   ]
  },
  {
   "cell_type": "code",
   "execution_count": null,
   "metadata": {},
   "outputs": [],
   "source": []
  },
  {
   "cell_type": "markdown",
   "metadata": {},
   "source": [
    "Third, make more complicated and refactor if needed."
   ]
  },
  {
   "cell_type": "code",
   "execution_count": null,
   "metadata": {},
   "outputs": [],
   "source": []
  },
  {
   "cell_type": "markdown",
   "metadata": {},
   "source": [
    "Now you can take your own function or one of the functions above and \n",
    "1. think what tests your function should pass\n",
    "2. ask ChatGPT to add these doctests in the python doctest style and ask it to modify the function if needed.\n",
    "\n",
    "Key: think first, act second!\n",
    "\n",
    "For example, the quadratic formula:\n",
    "\n",
    "$\n",
    "ax^2 + bx + c = 0\n",
    "$\n",
    "\n",
    "$\n",
    "x = \\frac{-b \\pm \\sqrt{b^2 - 4ac}}{2a}\n",
    "$"
   ]
  },
  {
   "cell_type": "markdown",
   "metadata": {},
   "source": [
    "List your tests and the desired results here:\n",
    "\n",
    "1. \n",
    "\n",
    "2. \n",
    "\n",
    "3. \n"
   ]
  },
  {
   "cell_type": "code",
   "execution_count": null,
   "metadata": {},
   "outputs": [],
   "source": []
  }
 ],
 "metadata": {
  "kernelspec": {
   "display_name": "Python 3",
   "language": "python",
   "name": "python3"
  },
  "language_info": {
   "codemirror_mode": {
    "name": "ipython",
    "version": 3
   },
   "file_extension": ".py",
   "mimetype": "text/x-python",
   "name": "python",
   "nbconvert_exporter": "python",
   "pygments_lexer": "ipython3",
   "version": "3.7.4"
  }
 },
 "nbformat": 4,
 "nbformat_minor": 2
}
